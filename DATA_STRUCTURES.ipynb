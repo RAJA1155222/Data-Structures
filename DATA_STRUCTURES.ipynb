{
  "nbformat": 4,
  "nbformat_minor": 0,
  "metadata": {
    "colab": {
      "provenance": [],
      "toc_visible": true
    },
    "kernelspec": {
      "name": "python3",
      "display_name": "Python 3"
    },
    "language_info": {
      "name": "python"
    }
  },
  "cells": [
    {
      "cell_type": "markdown",
      "source": [
        "# DATA TYPES AND STRUCTURES ( THEORY)\n"
      ],
      "metadata": {
        "id": "isQsOUl9Uupp"
      }
    },
    {
      "cell_type": "markdown",
      "source": [
        "#1.What are data structures, and why are they important?\n",
        "- What are Data Structures?\n",
        "\n",
        "In computer science, a data structure is a specialized way of organizing and storing data in a computer so that it can be used efficiently. Different kinds of data structures are suited to different kinds of applications, and some are highly specialized to specific tasks.\n",
        "\n",
        "Why are Data Structures Important?\n",
        "\n",
        " - Efficiency: Data structures are crucial for writing efficient code. Choosing the right data structure can significantly impact the performance of your algorithms, especially when dealing with large datasets. For example, using a hash table for quick lookups instead of searching through a list.\n",
        "\n",
        " - Organization: Data structures help you organize your data logically. This organization makes your code easier to understand, maintain, and debug. For example, using a tree structure to represent hierarchical data.\n",
        "\n",
        "-  Reusability: Many data structures are pre-built into programming languages or available as libraries. This reusability saves you time and effort, as you don't have to implement them from scratch. For example, using Python's built-in list or dict.\n",
        "\n",
        "- Abstraction: Data structures offer a level of abstraction, hiding the underlying implementation details from the programmer. You can work with the data without worrying about how it's stored in memory. For example, using a queue without knowing the specific details of its implementation.\n",
        "\n",
        "#Common Data Structures in Python:\n",
        "\n",
        "- Lists: Ordered, mutable sequences of elements.\n",
        "\n",
        "- Tuples: Ordered, immutable sequences of elements.\n",
        "\n",
        "- Dictionaries: Unordered collections of key-value pairs.\n",
        "\n",
        "- Sets: Unordered collections of unique elements.\n",
        "\n",
        "#2. Explain the difference between mutable and immutable data types with examples?\n",
        "- Mutable Data Types\n",
        "\n",
        "Mutable data types can be changed after they are created. This means you can modify their content without creating a new object.\n",
        "\n",
        "Here are some examples of mutable data types in Python:\n",
        "\n",
        "Lists: You can add, remove, or change elements within a list.\n",
        "\n"
      ],
      "metadata": {
        "id": "93XBRCCVZUkc"
      }
    },
    {
      "cell_type": "code",
      "source": [
        "my_list = [1, 2, 3]\n",
        "my_list.append(4)  # Modifies the original list\n",
        "print(my_list)  # Output: [1, 2, 3, 4]"
      ],
      "metadata": {
        "colab": {
          "base_uri": "https://localhost:8080/"
        },
        "id": "s78ArrF2bwvP",
        "outputId": "e3eb212f-b39e-4edb-df38-049ab56179d2"
      },
      "execution_count": 2,
      "outputs": [
        {
          "output_type": "stream",
          "name": "stdout",
          "text": [
            "[1, 2, 3, 4]\n"
          ]
        }
      ]
    },
    {
      "cell_type": "markdown",
      "source": [
        "#Immutable Data Types\n",
        "\n",
        "Immutable data types cannot be changed after they are created. If you try to modify an immutable object, a new object is created instead.\n",
        "\n",
        "Here are some examples of immutable data types in Python:\n",
        "\n",
        "Integers: You cannot change the value of an integer."
      ],
      "metadata": {
        "id": "eIq6C2AKcBsy"
      }
    },
    {
      "cell_type": "code",
      "source": [
        "x = 5\n",
        "y = x + 1  # Creates a new integer object for y\n",
        "print(x)  # Output: 5 (x remains unchanged)\n",
        "print(y)  # Output: 6"
      ],
      "metadata": {
        "colab": {
          "base_uri": "https://localhost:8080/"
        },
        "id": "mJ-WxGvKcHL5",
        "outputId": "a9b4eb95-abb8-4f25-e594-c21d068fca30"
      },
      "execution_count": 3,
      "outputs": [
        {
          "output_type": "stream",
          "name": "stdout",
          "text": [
            "5\n",
            "6\n"
          ]
        }
      ]
    },
    {
      "cell_type": "markdown",
      "source": [
        "In Summary\n",
        "\n",
        "- Mutable objects can be changed after creation, while immutable objects cannot.\n",
        "- Understanding this difference is important for writing efficient and bug-free code in Python. Choose the appropriate data type based on your needs."
      ],
      "metadata": {
        "id": "KonpBruYcN84"
      }
    },
    {
      "cell_type": "markdown",
      "source": [
        "#3.What are the main differences between lists and tuples in Python?\n",
        "  - Diferences between lists and tuples in Python.\n",
        "\n",
        "Mutability\n",
        "\n",
        "- Lists are mutable: You can modify a list after it's created. This includes adding, removing, or changing elements.\n",
        "\n",
        "- Tuples are immutable: Once a tuple is created, you cannot change its contents. You cannot add, remove, or modify elements.\n",
        "\n",
        "#Use Cases\n",
        "\n",
        "- Lists are suitable for storing collections of items that might need to be modified, such as a list of tasks or a shopping cart.\n",
        "- Tuples are often used for representing fixed collections of data, such as coordinates or database records. They are also preferred when immutability is desired for data integrity.\n",
        "#Performance\n",
        "\n",
        "- Tuples are generally slightly more efficient in terms of memory and performance compared to lists. This is because their immutability allows for certain optimizations. However, the performance difference is usually negligible for most use cases.\n",
        "\n",
        "\n",
        "#4.Describe how dictionaries store data?\n",
        "-\n",
        "\n",
        "Dictionaries in Python are implemented as hash tables. A hash table is a data structure that allows for efficient storage and retrieval of data using key-value pairs.\n",
        "\n",
        "Here's a breakdown of how dictionaries store data:\n",
        "\n",
        "- Key-Value Pairs: Dictionaries store data as key-value pairs. Each key is unique and associated with a corresponding value.\n",
        "\n",
        "- Hashing: When you insert a key-value pair into a dictionary, Python uses a hash function to compute a hash value for the key. This hash value is used to determine the location in memory where the key-value pair will be stored.\n",
        "\n",
        "- Hash Table: The dictionary is essentially a hash table, which is an array of slots or buckets. The hash value of the key is used to map the key-value pair to a specific slot in the hash table.\n",
        "\n",
        "- Collisions: Sometimes, two different keys might produce the same hash value, resulting in a collision. Dictionaries handle collisions using various techniques, such as chaining or open addressing.\n",
        "\n",
        "- Retrieval: To retrieve a value associated with a key, Python computes the hash value of the key and uses it to locate the corresponding slot in the hash table. It then retrieves the value stored in that slot.\n",
        "\n",
        "\n",
        "#5.Why might you use a set instead of a list in Python?\n",
        "- Reasons to Use a Set Instead of a List\n",
        "\n",
        "- Uniqueness: Sets only contain unique elements, while lists can have duplicates. If you need to ensure that all elements in your collection are unique, a set is the better choice. For example, if you have a list of user IDs and need to guarantee no duplicates, convert to a set.\n",
        "\n",
        "- Membership Testing: Checking if an element is present in a set (x in my_set) is significantly faster than checking in a list (x in my_list). Sets use a hash table for storage, enabling constant-time membership tests, as opposed to a list's linear search. If you need to frequently check for the presence of items, use a set.\n",
        "\n",
        "- Set Operations: Sets support efficient mathematical set operations like union, intersection, and difference. These operations are computationally expensive on lists but optimized for sets. If you need to perform set operations (e.g., finding common users in two lists), sets are the way to go.\n",
        "\n",
        "#6.What is a string in Python, and how is it different from a list?\n",
        "-  A string is a sequence of characters, such as letters, numbers, and symbols, enclosed within single quotes ('...') or double quotes (\"...\"). It's used to represent text-based data.\n",
        "\n",
        "Immutability: Strings are immutable, meaning you cannot change their characters once they are created. Any operation that appears to modify a string actually creates a new string.\n",
        "\n",
        "#List\n",
        "\n",
        " A list is an ordered collection of items, which can be of any data type, including numbers, strings, other lists, and more. Lists are defined using square brackets ([...]).\n",
        "\n",
        "Mutability: Lists are mutable, meaning you can change their elements after creation. You can add, remove, or modify items within a list.\n",
        "\n",
        "#Key Differences\n",
        "\n",
        "- Data Type: Strings hold text data (characters), while lists can store any data type, including strings.\n",
        "\n",
        "- Mutability: Strings are immutable, while lists are mutable.\n",
        "\n",
        "- Operations: Strings have specific operations for text manipulation (e.g., concatenation, slicing), while lists have operations for adding, removing, and modifying elements.\n",
        "\n",
        "- Representation: Strings are enclosed in quotes ('...' or \"...\"), and lists are enclosed in square brackets ([...]).\n",
        "\n",
        "In essence:\n",
        "\n",
        "Use strings for representing and working with text.\n",
        "Use lists for storing collections of items that may need to be modified.\n",
        "\n",
        "#7.How do tuples ensure data integrity in Python?\n",
        "\n",
        "# Immutability: The Key to Data Integrity\n",
        "\n",
        "- Tuples are immutable, which means their elements cannot be changed after creation. This inherent immutability is the primary way tuples ensure data integrity. Here's why it matters:\n",
        "\n",
        "- Preventing Accidental Changes: Since tuple elements cannot be modified, there's no risk of accidentally altering data stored in a tuple. This is crucial when dealing with sensitive information or data that should remain constant throughout the program's execution.\n",
        "\n",
        "- Data Consistency: Immutability guarantees that the data within a tuple remains consistent. You can be confident that the values in a tuple won't be unexpectedly modified by other parts of your code.\n",
        "\n",
        "- Suitable for Use as Keys: Tuples can be used as keys in dictionaries because they are immutable. Dictionary keys need to be hashable, and immutability is a requirement for hashability. This allows you to use tuples as keys for efficient data lookups.\n",
        "\n",
        "#8.What is a hash table, and how does it relate to dictionaries in Python?\n",
        "\n",
        "- A hash table is a data structure that stores data in key-value pairs, allowing for efficient retrieval of values based on their keys. It uses a hash function to map keys to indices in an array, where the corresponding values are stored. This enables fast lookups, insertions, and deletions of data.\n",
        "\n",
        "#How Hash Tables Work\n",
        "\n",
        "- Hash Function: When a key-value pair is inserted into a hash table, a hash function is applied to the key to generate a hash value. This hash value is used to determine the index in the array where the value will be stored.\n",
        "\n",
        "- Array: The hash table uses an array to store the key-value pairs. The hash value is used as an index into this array.\n",
        "\n",
        "- Collisions: Sometimes, two different keys might produce the same hash value, resulting in a collision. Hash tables employ collision resolution techniques (e.g., chaining, open addressing) to handle such situations.\n",
        "\n",
        "#Dictionaries in Python\n",
        "\n",
        "Dictionaries in Python are implemented using hash tables. This means that when you create a dictionary, Python internally uses a hash table to store its key-value pairs. This enables the efficient lookup, insertion, and deletion of items in the dictionary.\n",
        "\n",
        "#Relationship\n",
        "\n",
        "The relationship between hash tables and dictionaries in Python can be summarized as follows:\n",
        "\n",
        "- Dictionaries are built on top of hash tables.\n",
        "- Hash tables provide the underlying mechanism for dictionaries' efficient operations.\n",
        "- The hash function used by dictionaries is transparent to the user.\n",
        "- Python handles collisions automatically using its internal collision resolution strategies.\n",
        "\n",
        "#Benefits of Using Hash Tables in Dictionaries\n",
        "\n",
        "- Fast Lookups: Accessing values in a dictionary is very fast because the hash function directly maps the key to its corresponding index in the array.\n",
        "- Efficient Insertions and Deletions: Adding and removing items in a dictionary is also efficient due to the use of hash tables.\n",
        "- Flexibility: Dictionaries can store a wide variety of data types as keys and values.\n",
        "\n",
        "hash tables are the underlying data structure that powers dictionaries in Python. They enable dictionaries to perform operations like lookups, insertions, and deletions efficiently, making them a powerful and versatile data structure.\n",
        "\n",
        "#9. Can lists contain different data types in Python?\n",
        "- Lists in Python are designed to be heterogeneous, meaning they can store elements of various data types within the same list. This flexibility is one of the key features of Python lists, making them versatile for storing collections of diverse data.\n",
        "#EXAMPLE\n",
        "\n",
        "\n"
      ],
      "metadata": {
        "id": "Lbv3xZnrcbk4"
      }
    },
    {
      "cell_type": "code",
      "source": [
        "my_list = [1, \"hello\", 3.14, True]"
      ],
      "metadata": {
        "id": "NIB1gwi7i8lP"
      },
      "execution_count": 7,
      "outputs": []
    },
    {
      "cell_type": "markdown",
      "source": [
        "In this example, my_list contains an integer (1), a string (\"hello\"), a float (3.14), and a boolean (True). This demonstrates how a single list can accommodate elements of different data types.\n",
        "\n",
        "How it Works:\n",
        "\n",
        "Python lists are implemented as dynamic arrays, which means they can grow or shrink in size as needed. When you add an element to a list, Python allocates memory to store the element's value, regardless of its data type. This allows lists to hold a mix of data types without any restrictions.\n",
        "\n",
        "Benefits:\n",
        "\n",
        "The ability to store different data types in lists provides several benefits:\n",
        "\n",
        "Flexibility: You can represent complex data structures using lists, such as a list of customer records where each record contains a mix of strings, numbers, and booleans.\n",
        "Convenience: You can store related data together in a single list, even if the data is of different types.\n",
        "Readability: Using lists with mixed data types can sometimes make your code more readable and easier to understand."
      ],
      "metadata": {
        "id": "iyVnTAvgjC0_"
      }
    },
    {
      "cell_type": "markdown",
      "source": [
        "#10. Explain why strings are immutable in Python?\n",
        "- Strings in Python are immutable primarily for performance and security reasons. Immutability means that once a string object is created, its value cannot be changed. Any operation that appears to modify a string actually creates a new string object with the modified value.\n",
        "\n",
        "Performance:\n",
        "\n",
        "- Memory Optimization: Immutable strings allow Python to store only one copy of each distinct string value in memory. This can save a significant amount of memory, especially when dealing with large numbers of strings.\n",
        "- Hashing Efficiency: Since strings are immutable, their hash values can be calculated once and stored, making dictionary lookups and set operations involving strings much faster.\n",
        "\n",
        "Security:\n",
        "\n",
        "- Data Integrity: Immutability ensures that strings cannot be accidentally modified, which is crucial for data integrity, especially in security-sensitive applications.\n",
        "- Thread Safety: Immutable strings are inherently thread-safe, as multiple threads can access the same string object without the risk of data corruption.\n",
        "\n",
        "\n",
        "#11. What advantages do dictionaries offer over lists for certain tasks?\n",
        "- Okay, here's a breakdown of the advantages of dictionaries over lists in Python.\n",
        "\n",
        "#Advantages of Dictionaries over Lists\n",
        "\n",
        "- Efficient Lookups: Dictionaries use a hash table to store data, enabling them to access elements by keys (almost) instantly, offering O(1) time complexity for lookups, while searching for a specific element in a list requires iterating through the list (O(n) time complexity). This makes dictionaries faster for tasks requiring frequent data retrieval based on specific keys.\n",
        "\n",
        "- Key-Value Structure: Dictionaries inherently store data in a key-value structure, which is excellent for representing relationships or mappings. For example, storing student names (keys) and their grades (values). In lists, there is no implicit relationship between elements.\n",
        "\n",
        "- Data Integrity: Dictionary keys are immutable, ensuring the integrity of the data structure. Once you define a key, you cannot accidentally change it. Lists, on the other hand, are mutable, and elements can be modified without restrictions.\n",
        "\n",
        "- Flexibility: Dictionaries can store different data types as values for different keys. They can also be easily nested, creating complex data structures. While lists can store different data types too, it is less structured compared to a dictionary.\n",
        "\n",
        "#When to Choose a Dictionary?\n",
        "\n",
        "- When you need to store data with specific keys for fast access (e.g., a database of users with user IDs as keys).\n",
        "- When your data has a natural key-value relationship (e.g., representing a product catalog with product names and descriptions).\n",
        "- When data integrity is crucial, and you want to prevent accidental key changes (e.g., storing configuration settings).\n",
        "- When you need flexible data structures that can store various data types (e.g., representing JSON or XML data).\n",
        "\n",
        "#12. Describe a scenario where using a tuple would be preferable over a list?\n",
        "- Scenario: Representing Coordinates\n",
        "\n",
        "Imagine you're working on a program that deals with geographical locations, and you need to store the coordinates of various points on a map. In this case, using a tuple to represent each coordinate would be preferable over a list.\n",
        "\n",
        "#Reasons for using Tuple\n",
        "\n",
        "- Data Integrity: Coordinates are typically fixed and should not be changed accidentally. Tuples' immutability ensures that the coordinates remain constant, preventing unintended modifications. This guarantees data integrity, which is crucial for accurate location representation.\n",
        "\n",
        "- Semantic Clarity: Using a tuple clearly conveys the idea that the data represents a fixed, ordered set of values—in this case, latitude and longitude. This semantic clarity improves code readability and understanding.\n",
        "\n",
        "- Performance: While the performance difference might be negligible in many cases, tuples can be slightly more memory-efficient than lists, especially when dealing with a large number of coordinates.\n",
        "\n",
        "#Example"
      ],
      "metadata": {
        "id": "5NSFd_BCjQBL"
      }
    },
    {
      "cell_type": "code",
      "source": [
        "# Representing coordinates as tuples\n",
        "location1 = (37.7749, -122.4194)  # San Francisco\n",
        "location2 = (40.7128, -74.0060)  # New York City\n",
        "\n",
        "# Accessing coordinates\n",
        "latitude1, longitude1 = location1\n",
        "print(f\"Latitude: {latitude1}, Longitude: {longitude1}\")"
      ],
      "metadata": {
        "colab": {
          "base_uri": "https://localhost:8080/"
        },
        "id": "Iv_j85WYlEfp",
        "outputId": "114e86a4-7dc2-415a-c2fe-100e56d8de19"
      },
      "execution_count": 8,
      "outputs": [
        {
          "output_type": "stream",
          "name": "stdout",
          "text": [
            "Latitude: 37.7749, Longitude: -122.4194\n"
          ]
        }
      ]
    },
    {
      "cell_type": "markdown",
      "source": [
        "In this example, each location is represented by a tuple containing its latitude and longitude. The immutability of tuples ensures that the coordinates remain constant and are not accidentally modified.\n",
        "\n",
        "# In contrast, using a list for coordinates would introduce the risk of accidental changes, potentially leading to incorrect location data.\n",
        "\n",
        "In summary, when dealing with data that should remain constant and where immutability is desired for integrity and semantic clarity, using tuples is generally preferred over lists. The scenario of representing coordinates illustrates this principle well.\n",
        "\n",
        "#13. How do sets handle duplicate values in Python?\n",
        "- Sets and Duplicates\n",
        "\n",
        "In Python, sets are unordered collections of unique elements. This means that sets automatically handle duplicate values by discarding them during insertion or creation.\n",
        "\n",
        "#How it Works\n",
        "\n",
        "Sets are implemented using a hash table data structure, which enables efficient membership testing and duplicate removal. When you add an element to a set, Python calculates its hash value and uses it to determine the element's position in the hash table. If an element with the same hash value already exists in the set, Python considers it a duplicate and ignores it.\n",
        "\n",
        "#Benefits of Duplicate Handling\n",
        "\n",
        "- Uniqueness: Sets guarantee that all elements within them are unique, making them ideal for tasks where you need to ensure data integrity and avoid redundancy.\n",
        "- Efficiency: The hash table implementation allows sets to perform membership testing and duplicate removal efficiently, making them faster than lists for these operations.\n",
        "\n",
        "#14. How does the “in” keyword work differently for lists and dictionaries?\n",
        "- Lists\n",
        "\n",
        "When used with lists, the in keyword checks for membership, meaning it determines if a given element is present within the list. It essentially iterates through the list, comparing the element to each item until a match is found or the end of the list is reached.\n",
        "\n",
        "Example\n",
        "\n",
        ""
      ],
      "metadata": {
        "id": "zagTKJm7lJD4"
      }
    },
    {
      "cell_type": "code",
      "source": [
        "my_list = [1, 2, 3, 4, 5]\n",
        "\n",
        "if 3 in my_list:\n",
        "  print(\"3 is in the list\")\n",
        "else:\n",
        "  print(\"3 is not in the list\")"
      ],
      "metadata": {
        "colab": {
          "base_uri": "https://localhost:8080/"
        },
        "id": "f4vwrqhZm9VH",
        "outputId": "5abce346-d3bf-4a3b-e842-649d399960a6"
      },
      "execution_count": 9,
      "outputs": [
        {
          "output_type": "stream",
          "name": "stdout",
          "text": [
            "3 is in the list\n"
          ]
        }
      ]
    },
    {
      "cell_type": "markdown",
      "source": [
        "- Dictionaries\n",
        "\n",
        "In contrast to lists, when used with dictionaries, the in keyword checks for the presence of a key, not a value. It leverages the dictionary's hash table implementation to quickly determine if the specified key exists within the dictionary.\n",
        "\n",
        "Example"
      ],
      "metadata": {
        "id": "oJPj4w-Dm_h8"
      }
    },
    {
      "cell_type": "code",
      "source": [
        "my_dict = {\"name\": \"Alice\", \"age\": 30, \"city\": \"New York\"}\n",
        "\n",
        "if \"name\" in my_dict:\n",
        "  print(\"The key 'name' is in the dictionary\")\n",
        "else:\n",
        "  print(\"The key 'name' is not in the dictionary\")"
      ],
      "metadata": {
        "colab": {
          "base_uri": "https://localhost:8080/"
        },
        "id": "vNR_yoZ_nK-_",
        "outputId": "b551be0f-0b8d-441d-e8e2-cf22427b971e"
      },
      "execution_count": 10,
      "outputs": [
        {
          "output_type": "stream",
          "name": "stdout",
          "text": [
            "The key 'name' is in the dictionary\n"
          ]
        }
      ]
    },
    {
      "cell_type": "markdown",
      "source": [
        "#Key Differences\n",
        "\n",
        "- Target: in with lists checks for element membership, while with dictionaries, it checks for key presence.\n",
        "- Implementation: Lists use linear search (iterating through elements), whereas dictionaries use hash table lookup (direct key access).\n",
        "- Efficiency: Dictionaries generally offer faster in operations due to their hash table implementation, providing O(1) time complexity on average, while lists have O(n) complexity for in operations.\n",
        "\n",
        "#15.Can you modify the elements of a tuple? Explain why or why not?\n",
        "- No, we cannot modify the elements of a tuple in Python. This is because tuples are immutable data structures, meaning their elements cannot be changed after they are created.\n",
        "\n",
        "#Reasons for Immutability\n",
        "\n",
        "- Data Integrity: Immutability ensures that the data within a tuple remains constant throughout its lifetime. This is crucial when dealing with sensitive information or data that should not be altered accidentally.\n",
        "\n",
        "- Hashing: Tuples can be used as keys in dictionaries because they are immutable and hashable. Dictionary keys need to be hashable, which means their values should not change during the dictionary's lifetime.\n",
        "\n",
        "- Performance: Immutability allows for certain optimizations in memory management and performance. Since tuple elements cannot be changed, Python can store them more efficiently and perform certain operations faster.\n",
        "\n",
        "#Example"
      ],
      "metadata": {
        "id": "kd-uHV9pnOq5"
      }
    },
    {
      "cell_type": "code",
      "source": [
        "my_tuple = (1, 2, 3)\n",
        "my_tuple[0] = 4  # This will raise a TypeError"
      ],
      "metadata": {
        "colab": {
          "base_uri": "https://localhost:8080/",
          "height": 159
        },
        "id": "YvBjBwk4oEnV",
        "outputId": "cea86794-99bb-4a27-b63a-6a6cf21eac9a"
      },
      "execution_count": 11,
      "outputs": [
        {
          "output_type": "error",
          "ename": "TypeError",
          "evalue": "'tuple' object does not support item assignment",
          "traceback": [
            "\u001b[0;31m---------------------------------------------------------------------------\u001b[0m",
            "\u001b[0;31mTypeError\u001b[0m                                 Traceback (most recent call last)",
            "\u001b[0;32m<ipython-input-11-182c12cb52cc>\u001b[0m in \u001b[0;36m<cell line: 0>\u001b[0;34m()\u001b[0m\n\u001b[1;32m      1\u001b[0m \u001b[0mmy_tuple\u001b[0m \u001b[0;34m=\u001b[0m \u001b[0;34m(\u001b[0m\u001b[0;36m1\u001b[0m\u001b[0;34m,\u001b[0m \u001b[0;36m2\u001b[0m\u001b[0;34m,\u001b[0m \u001b[0;36m3\u001b[0m\u001b[0;34m)\u001b[0m\u001b[0;34m\u001b[0m\u001b[0;34m\u001b[0m\u001b[0m\n\u001b[0;32m----> 2\u001b[0;31m \u001b[0mmy_tuple\u001b[0m\u001b[0;34m[\u001b[0m\u001b[0;36m0\u001b[0m\u001b[0;34m]\u001b[0m \u001b[0;34m=\u001b[0m \u001b[0;36m4\u001b[0m  \u001b[0;31m# This will raise a TypeError\u001b[0m\u001b[0;34m\u001b[0m\u001b[0;34m\u001b[0m\u001b[0m\n\u001b[0m",
            "\u001b[0;31mTypeError\u001b[0m: 'tuple' object does not support item assignment"
          ]
        }
      ]
    },
    {
      "cell_type": "markdown",
      "source": [
        "In this example, attempting to modify the first element of the tuple (my_tuple[0]) will result in a TypeError because tuples are immutable.\n",
        "\n",
        "#Workarounds\n",
        "\n",
        "If you need to modify data similar to what you would store in a tuple, you can consider using a list instead. Lists are mutable, allowing you to change their elements. Alternatively, you can create a new tuple with the desired modifications.\n",
        "\n",
        " Tuples in Python are immutable, meaning you cannot modify their elements after creation. This immutability is a key characteristic of tuples and serves important purposes in terms of data integrity, hashing, and performance.\n",
        "\n",
        "#16. What is a nested dictionary, and give an example of its use case?\n",
        "\n",
        " - A nested dictionary is a dictionary where the values are themselves dictionaries. This allows you to create hierarchical data structures to represent complex relationships.\n",
        "\n",
        "Example Use Case: Representing Student Data\n",
        "\n",
        "Imagine you want to store information about students, including their names, ages, and grades in different subjects. You can use a nested dictionary to organize this data:"
      ],
      "metadata": {
        "id": "2dFaYe1SoHHw"
      }
    },
    {
      "cell_type": "code",
      "source": [
        "student_data = {\n",
        "    \"Alice\": {\"age\": 20, \"grades\": {\"Math\": 90, \"Science\": 85}},\n",
        "    \"Bob\": {\"age\": 22, \"grades\": {\"Math\": 88, \"Science\": 92}},\n",
        "}"
      ],
      "metadata": {
        "id": "MKegSXkup06z"
      },
      "execution_count": 14,
      "outputs": []
    },
    {
      "cell_type": "markdown",
      "source": [
        "In this example:\n",
        "\n",
        "- student_data is the main dictionary.\n",
        "The keys are student names (\"Alice\", \"Bob\").\n",
        "- The values are nested dictionaries containing student details.\n",
        "- Each nested dictionary has keys like \"age\" and \"grades\".\n",
        "- \"grades\" itself is another nested dictionary with subjects as keys and grades as values.\n",
        "\n",
        "#Accessing Data\n",
        "\n",
        "You can access data within the nested dictionary using multiple key lookups:\n"
      ],
      "metadata": {
        "id": "BP7N0D1cqHRl"
      }
    },
    {
      "cell_type": "code",
      "source": [
        "alice_age = student_data[\"Alice\"][\"age\"]  # Accessing Alice's age\n",
        "bob_math_grade = student_data[\"Bob\"][\"grades\"][\"Math\"]  # Accessing Bob's Math grade"
      ],
      "metadata": {
        "id": "gz7HPqW2qen8"
      },
      "execution_count": 16,
      "outputs": []
    },
    {
      "cell_type": "markdown",
      "source": [
        "Benefits\n",
        "\n",
        "- Organization: Nested dictionaries provide a structured way to organize complex data.\n",
        "- Readability: They make your code more readable and easier to understand.\n",
        "- Flexibility: You can easily add or remove data at different levels of the hierarchy.\n",
        "\n",
        "#Other Use Cases\n",
        "\n",
        "Nested dictionaries are useful in various scenarios, such as:\n",
        "\n",
        "- Configuration files: Storing application settings with sections and subsections.\n",
        "- JSON data: Representing hierarchical data structures from JSON files.\n",
        "- Game data: Storing information about game objects and their attributes.\n",
        "\n"
      ],
      "metadata": {
        "id": "qZFgJoFzqqYs"
      }
    },
    {
      "cell_type": "markdown",
      "source": [
        "#17.Describe the time complexity of accessing elements in a dictionary?\n",
        "- Accessing elements in a dictionary using a key has an average time complexity of O(1), also known as constant time. This means that the time it takes to access an element is independent of the size of the dictionary.\n",
        "\n",
        "#How it Works\n",
        "\n",
        "Dictionaries in Python are implemented using hash tables. When you access an element using a key, Python uses a hash function to compute a hash value for the key. This hash value is then used to directly locate the corresponding element in the hash table.\n",
        "\n",
        "#Hash Collisions\n",
        "\n",
        "In some cases, two different keys might produce the same hash value, resulting in a hash collision. Python uses various techniques to handle collisions, such as chaining or open addressing. However, these techniques are designed to minimize the impact on performance, and in most cases, the time complexity remains O(1).\n",
        "\n",
        "#Worst-Case Scenario\n",
        "\n",
        "In the worst-case scenario, where all keys hash to the same index, the time complexity could become O(n), where n is the number of elements in the dictionary. This is because Python would need to iterate through all the elements in the collision chain to find the desired element. However, this scenario is extremely rare in practice.\n",
        "\n",
        "In Summary\n",
        "\n",
        "Accessing elements in a dictionary using a key has an average time complexity of O(1), which makes dictionaries very efficient for data retrieval. This is one of the main reasons why dictionaries are widely used in Python for various tasks.\n",
        "\n",
        "#18. In what situations are lists preferred over dictionaries?\n",
        "\n",
        "- Situations where Lists are Preferred\n",
        "\n",
        "While dictionaries excel at key-based data retrieval, there are certain situations where lists are a better choice:\n",
        "\n",
        "- Order Matters: When the order of elements is crucial for your task, lists are preferred. Lists maintain the order in which elements were added, whereas dictionaries do not guarantee any specific order.\n",
        "\n",
        " -   Example: Storing a sequence of events or steps in a process where the order is significant.\n",
        "\n",
        "- Duplicate Elements are Allowed: If your data may contain duplicate elements and you need to preserve them, lists are suitable. Dictionaries, by nature, store only unique keys.\n",
        "\n",
        "  -  Example: Storing a list of items in a shopping cart where the same item can be added multiple times.\n",
        "\n",
        "- Iteration with Index: If you need to access elements using their numerical index, lists provide direct access using indexing (e.g., my_list[2]). Dictionaries require key-based access, which might not be convenient in some cases.\n",
        "\n",
        " -  Example: Processing elements in a specific order or accessing a specific element based on its position.\n",
        "\n",
        "- Storing Homogeneous Data: When dealing with a collection of items of the same data type, lists can be more concise and efficient than dictionaries.\n",
        "\n",
        " - Example: Storing a list of numbers or names where all elements are of the same type.\n",
        "\n",
        "- Memory Considerations: In some cases, lists can be slightly more memory-efficient than dictionaries, especially when storing simple data types like numbers.\n",
        "\n",
        "#19. Why are dictionaries considered unordered, and how does that affect data retrieval?\n"
      ],
      "metadata": {
        "id": "gHFcGznrrfsH"
      }
    },
    {
      "cell_type": "markdown",
      "source": [
        "#17.Describe the time complexity of accessing elements in a dictionary?\n",
        "- Accessing elements in a dictionary using a key has an average time complexity of O(1), also known as constant time. This means that the time it takes to access an element is independent of the size of the dictionary.\n",
        "\n",
        "#How it Works\n",
        "\n",
        "Dictionaries in Python are implemented using hash tables. When you access an element using a key, Python uses a hash function to compute a hash value for the key. This hash value is then used to directly locate the corresponding element in the hash table.\n",
        "\n",
        "#Hash Collisions\n",
        "\n",
        "In some cases, two different keys might produce the same hash value, resulting in a hash collision. Python uses various techniques to handle collisions, such as chaining or open addressing. However, these techniques are designed to minimize the impact on performance, and in most cases, the time complexity remains O(1).\n",
        "\n",
        "#Worst-Case Scenario\n",
        "\n",
        "In the worst-case scenario, where all keys hash to the same index, the time complexity could become O(n), where n is the number of elements in the dictionary. This is because Python would need to iterate through all the elements in the collision chain to find the desired element. However, this scenario is extremely rare in practice.\n",
        "\n",
        "In Summary\n",
        "\n",
        "Accessing elements in a dictionary using a key has an average time complexity of O(1), which makes dictionaries very efficient for data retrieval. This is one of the main reasons why dictionaries are widely used in Python for various tasks.\n",
        "\n",
        "#18. In what situations are lists preferred over dictionaries?\n",
        "\n",
        "- Situations where Lists are Preferred\n",
        "\n",
        "While dictionaries excel at key-based data retrieval, there are certain situations where lists are a better choice:\n",
        "\n",
        "- Order Matters: When the order of elements is crucial for your task, lists are preferred. Lists maintain the order in which elements were added, whereas dictionaries do not guarantee any specific order.\n",
        "\n",
        " -   Example: Storing a sequence of events or steps in a process where the order is significant.\n",
        "\n",
        "- Duplicate Elements are Allowed: If your data may contain duplicate elements and you need to preserve them, lists are suitable. Dictionaries, by nature, store only unique keys.\n",
        "\n",
        "  -  Example: Storing a list of items in a shopping cart where the same item can be added multiple times.\n",
        "\n",
        "- Iteration with Index: If you need to access elements using their numerical index, lists provide direct access using indexing (e.g., my_list[2]). Dictionaries require key-based access, which might not be convenient in some cases.\n",
        "\n",
        " -  Example: Processing elements in a specific order or accessing a specific element based on its position.\n",
        "\n",
        "- Storing Homogeneous Data: When dealing with a collection of items of the same data type, lists can be more concise and efficient than dictionaries.\n",
        "\n",
        " - Example: Storing a list of numbers or names where all elements are of the same type.\n",
        "\n",
        "- Memory Considerations: In some cases, lists can be slightly more memory-efficient than dictionaries, especially when storing simple data types like numbers.\n",
        "\n",
        "#19. Why are dictionaries considered unordered, and how does that affect data retrieval?\n",
        "- Why Dictionaries are Unordered\n",
        "\n",
        "Dictionaries in Python are inherently unordered because they are implemented using hash tables. Hash tables are designed for efficient key-based lookups, but they do not maintain the order in which elements were added.\n",
        "\n",
        "#Here's how it works:\n",
        "\n",
        "- Hashing: When you insert a key-value pair into a dictionary, Python uses a hash function to compute a hash value for the key.\n",
        "- Storage: This hash value determines the location (index) in the hash table where the key-value pair will be stored.\n",
        "- Retrieval: To retrieve a value, Python computes the hash value of the key and uses it to directly access the corresponding location in the hash table.\n",
        "\n",
        "Since the storage location is determined by the hash value, and not the insertion order, the order of elements is not preserved.\n",
        "\n",
        "#How Unorderedness Affects Data Retrieval\n",
        "\n",
        "The unordered nature of dictionaries affects data retrieval in the following ways:\n",
        "\n",
        "- No Guaranteed Order: When you iterate through a dictionary or access its elements using methods like keys(), values(), or items(), the order in which elements are returned is not guaranteed. It may vary between different Python versions or even between different runs of the same code.\n",
        "\n",
        "- Key-Based Access: Dictionaries are designed for key-based access. You retrieve values using their corresponding keys, not by their position or order.\n",
        "\n",
        "- Data Retrieval Efficiency: Despite being unordered, dictionaries offer very efficient data retrieval due to their hash table implementation. Accessing an element using a key has an average time complexity of O(1), which is constant time.\n",
        "\n",
        "#20. Explain the difference between a list and a dictionary in terms of data retrieval?\n",
        "- Lists\n",
        "\n",
        "Data Retrieval by Index: Lists are ordered collections of items, and you retrieve elements using their index (position) within the list. Indexing starts from 0 for the first element, 1 for the second, and so on.\n",
        "\n",
        "Example:"
      ],
      "metadata": {
        "id": "wcl3KvG0uM2p"
      }
    },
    {
      "cell_type": "code",
      "source": [
        "my_list = [10, 20, 30, 40]\n",
        "   element = my_list[2]  # Retrieves the element at index 2, which is 30"
      ],
      "metadata": {
        "colab": {
          "base_uri": "https://localhost:8080/",
          "height": 106
        },
        "id": "WYszoQjKv9WT",
        "outputId": "2d18020c-299c-43df-e656-4a1e51043106"
      },
      "execution_count": 17,
      "outputs": [
        {
          "output_type": "error",
          "ename": "IndentationError",
          "evalue": "unexpected indent (<ipython-input-17-58d6d6b94845>, line 2)",
          "traceback": [
            "\u001b[0;36m  File \u001b[0;32m\"<ipython-input-17-58d6d6b94845>\"\u001b[0;36m, line \u001b[0;32m2\u001b[0m\n\u001b[0;31m    element = my_list[2]  # Retrieves the element at index 2, which is 30\u001b[0m\n\u001b[0m    ^\u001b[0m\n\u001b[0;31mIndentationError\u001b[0m\u001b[0;31m:\u001b[0m unexpected indent\n"
          ]
        }
      ]
    },
    {
      "cell_type": "markdown",
      "source": [
        "- Time Complexity: Accessing an element in a list by its index has a time complexity of O(1), meaning it takes constant time regardless of the list's size.\n",
        "\n",
        "#Dictionaries\n",
        "\n",
        "Data Retrieval by Key: Dictionaries store data in key-value pairs. You retrieve values using their corresponding keys.\n",
        "\n",
        "Example:"
      ],
      "metadata": {
        "id": "qyEGkSZLwT8f"
      }
    },
    {
      "cell_type": "code",
      "source": [
        "my_dict = {\"name\": \"Alice\", \"age\": 30, \"city\": \"New York\"}\n",
        "   name = my_dict[\"name\"]  # Retrieves the value associated with the key \"name\", which is \"Alice\""
      ],
      "metadata": {
        "colab": {
          "base_uri": "https://localhost:8080/",
          "height": 124
        },
        "id": "buXJK4tzwa8B",
        "outputId": "b752753e-3217-40c9-9f28-0bb2c8707cab"
      },
      "execution_count": 20,
      "outputs": [
        {
          "output_type": "error",
          "ename": "IndentationError",
          "evalue": "unexpected indent (<ipython-input-20-85084a48e24d>, line 2)",
          "traceback": [
            "\u001b[0;36m  File \u001b[0;32m\"<ipython-input-20-85084a48e24d>\"\u001b[0;36m, line \u001b[0;32m2\u001b[0m\n\u001b[0;31m    name = my_dict[\"name\"]  # Retrieves the value associated with the key \"name\", which is \"Alice\"\u001b[0m\n\u001b[0m    ^\u001b[0m\n\u001b[0;31mIndentationError\u001b[0m\u001b[0;31m:\u001b[0m unexpected indent\n"
          ]
        }
      ]
    },
    {
      "cell_type": "markdown",
      "source": [
        "- Time Complexity: Accessing an element in a dictionary by its key has an average time complexity of O(1), which is also constant time. However, in the worst-case scenario (hash collisions), it could become O(n), where n is the number of elements in the dictionary. But this is rare in practice.\n",
        "\n",
        "#When to Choose\n",
        "\n",
        "- Lists: When you need to access elements by their position or when the order of elements is important.\n",
        "- Dictionaries: When you need to access elements by a unique key or when you want to store data in a key-value structure."
      ],
      "metadata": {
        "id": "JO8_W9Nmw7K1"
      }
    },
    {
      "cell_type": "markdown",
      "source": [
        "#PRACTICAL QUESTIONS\n",
        ""
      ],
      "metadata": {
        "id": "SWs9obMzxO9f"
      }
    },
    {
      "cell_type": "markdown",
      "source": [
        "#1.Write a code to create a string with your name and print it?\n"
      ],
      "metadata": {
        "id": "3Hhklel6xj1d"
      }
    },
    {
      "cell_type": "code",
      "source": [
        "my_name = \"RAJA\"  # Assigning the name \"RAJA\" to the variable my_name\n",
        "print(my_name)  # Printing the value of the variable my_name"
      ],
      "metadata": {
        "colab": {
          "base_uri": "https://localhost:8080/"
        },
        "id": "72NuGV2SxvBD",
        "outputId": "1a572127-6778-43c6-8992-feca2fa4739c"
      },
      "execution_count": 22,
      "outputs": [
        {
          "output_type": "stream",
          "name": "stdout",
          "text": [
            "RAJA\n"
          ]
        }
      ]
    },
    {
      "cell_type": "markdown",
      "source": [
        "#2. Write a code to find the length of the string \"Hello World\"?"
      ],
      "metadata": {
        "id": "kNfq1B88yBQx"
      }
    },
    {
      "cell_type": "code",
      "source": [
        "string = \"Hello World\"\n",
        "length = len(string)\n",
        "print(length)"
      ],
      "metadata": {
        "colab": {
          "base_uri": "https://localhost:8080/"
        },
        "id": "PVAtoV8qyJHJ",
        "outputId": "9c5d820d-53f4-4a8d-a041-fc206e7d06a0"
      },
      "execution_count": 23,
      "outputs": [
        {
          "output_type": "stream",
          "name": "stdout",
          "text": [
            "11\n"
          ]
        }
      ]
    },
    {
      "cell_type": "markdown",
      "source": [
        "#3.Write a code to slice the first 3 characters from the string \"Python Programming\"?\n"
      ],
      "metadata": {
        "id": "GDiNs_lJyQj1"
      }
    },
    {
      "cell_type": "code",
      "source": [
        "string = \"Python Programming\"\n",
        "sliced_string = string[:3]  # Slice from the beginning to index 3 (exclusive)\n",
        "print(sliced_string)"
      ],
      "metadata": {
        "colab": {
          "base_uri": "https://localhost:8080/"
        },
        "id": "dPc-ScabyY2-",
        "outputId": "a7858e15-4d32-40fd-bb7d-d525e9101151"
      },
      "execution_count": 24,
      "outputs": [
        {
          "output_type": "stream",
          "name": "stdout",
          "text": [
            "Pyt\n"
          ]
        }
      ]
    },
    {
      "cell_type": "markdown",
      "source": [
        "#4. Write a code to convert the string \"hello\" to uppercase?"
      ],
      "metadata": {
        "id": "SyyfC3g4yjmQ"
      }
    },
    {
      "cell_type": "code",
      "source": [
        "string = \"hello\"\n",
        "uppercase_string = string.upper()\n",
        "print(uppercase_string)"
      ],
      "metadata": {
        "colab": {
          "base_uri": "https://localhost:8080/"
        },
        "id": "aKCfuKcwyqBr",
        "outputId": "9cbccba7-4ea0-4f6d-e0c5-105a1c151e6c"
      },
      "execution_count": 25,
      "outputs": [
        {
          "output_type": "stream",
          "name": "stdout",
          "text": [
            "HELLO\n"
          ]
        }
      ]
    },
    {
      "cell_type": "markdown",
      "source": [
        "#5. Write a code to replace the word \"apple\" with \"orange\" in the string \"I like apple\"?"
      ],
      "metadata": {
        "id": "YKkUmiAQyx6z"
      }
    },
    {
      "cell_type": "code",
      "source": [
        "string = \"I like apple\"\n",
        "new_string = string.replace(\"apple\", \"orange\")\n",
        "print(new_string)"
      ],
      "metadata": {
        "colab": {
          "base_uri": "https://localhost:8080/"
        },
        "id": "YhvsKdcyy_xh",
        "outputId": "a74847b9-1b5a-4895-fb99-9d594cf26de6"
      },
      "execution_count": 26,
      "outputs": [
        {
          "output_type": "stream",
          "name": "stdout",
          "text": [
            "I like orange\n"
          ]
        }
      ]
    },
    {
      "cell_type": "markdown",
      "source": [
        "#6. Write a code to create a list with numbers 1 to 5 and print it?"
      ],
      "metadata": {
        "id": "IJAQSAbmzT7j"
      }
    },
    {
      "cell_type": "code",
      "source": [
        "my_list = list(range(1, 6))\n",
        "print(my_list)"
      ],
      "metadata": {
        "colab": {
          "base_uri": "https://localhost:8080/"
        },
        "id": "Ib7lOog-zie6",
        "outputId": "1b5314cf-1fe3-4fa2-a0dd-06a34778dada"
      },
      "execution_count": 27,
      "outputs": [
        {
          "output_type": "stream",
          "name": "stdout",
          "text": [
            "[1, 2, 3, 4, 5]\n"
          ]
        }
      ]
    },
    {
      "cell_type": "markdown",
      "source": [
        "#7. Write a code to append the number 10 to the list [1, 2, 3, 4]?"
      ],
      "metadata": {
        "id": "sc9jxpo_zpKG"
      }
    },
    {
      "cell_type": "code",
      "source": [
        "my_list = [1, 2, 3, 4]\n",
        "my_list.append(10)\n",
        "print(my_list)"
      ],
      "metadata": {
        "colab": {
          "base_uri": "https://localhost:8080/"
        },
        "id": "zE4MWaCQzvjq",
        "outputId": "7f959e48-899a-47e9-9e1d-efa8b20c657a"
      },
      "execution_count": 28,
      "outputs": [
        {
          "output_type": "stream",
          "name": "stdout",
          "text": [
            "[1, 2, 3, 4, 10]\n"
          ]
        }
      ]
    },
    {
      "cell_type": "markdown",
      "source": [
        "#8. Write a code to remove the number 3 from the list [1, 2, 3, 4, 5]?"
      ],
      "metadata": {
        "id": "XqAr9bJxz5Af"
      }
    },
    {
      "cell_type": "code",
      "source": [
        "my_list = [1, 2, 3, 4, 5]\n",
        "my_list.remove(3)\n",
        "print(my_list)"
      ],
      "metadata": {
        "colab": {
          "base_uri": "https://localhost:8080/"
        },
        "id": "kMUYmhvbz_Cy",
        "outputId": "03dd0bb5-54ef-4944-af80-14e3f72f56a6"
      },
      "execution_count": 29,
      "outputs": [
        {
          "output_type": "stream",
          "name": "stdout",
          "text": [
            "[1, 2, 4, 5]\n"
          ]
        }
      ]
    },
    {
      "cell_type": "markdown",
      "source": [
        "#9. Write a code to access the second element in the list ['a', 'b', 'c', 'd']?"
      ],
      "metadata": {
        "id": "GNZE747G0Ghi"
      }
    },
    {
      "cell_type": "code",
      "source": [
        "my_list = ['a', 'b', 'c', 'd']\n",
        "second_element = my_list[1]\n",
        "print(second_element)"
      ],
      "metadata": {
        "colab": {
          "base_uri": "https://localhost:8080/"
        },
        "id": "1nkWOsCf0OAI",
        "outputId": "f962a917-a95c-4794-c4f5-7d46c030eff0"
      },
      "execution_count": 30,
      "outputs": [
        {
          "output_type": "stream",
          "name": "stdout",
          "text": [
            "b\n"
          ]
        }
      ]
    },
    {
      "cell_type": "markdown",
      "source": [
        "#10. Write a code to reverse the list [10, 20, 30, 40, 50]?"
      ],
      "metadata": {
        "id": "88bpbNL10VGg"
      }
    },
    {
      "cell_type": "code",
      "source": [
        "my_list = [10, 20, 30, 40, 50]\n",
        "my_list.reverse()\n",
        "print(my_list)"
      ],
      "metadata": {
        "colab": {
          "base_uri": "https://localhost:8080/"
        },
        "id": "G_ZukgGv0hsx",
        "outputId": "c390eb03-1cfd-41e1-afc9-6c42c4344cbd"
      },
      "execution_count": 31,
      "outputs": [
        {
          "output_type": "stream",
          "name": "stdout",
          "text": [
            "[50, 40, 30, 20, 10]\n"
          ]
        }
      ]
    },
    {
      "cell_type": "markdown",
      "source": [
        "#11. Write a code to create a tuple with the elements 100, 200, 300 and print it?"
      ],
      "metadata": {
        "id": "ihClWJaY2KJo"
      }
    },
    {
      "cell_type": "code",
      "source": [
        "my_tuple = (100, 200, 300)\n",
        "print(my_tuple)"
      ],
      "metadata": {
        "colab": {
          "base_uri": "https://localhost:8080/"
        },
        "id": "PMCHtTfw2Qpj",
        "outputId": "0cf68e72-4bb0-4531-9096-9d3361450f23"
      },
      "execution_count": 32,
      "outputs": [
        {
          "output_type": "stream",
          "name": "stdout",
          "text": [
            "(100, 200, 300)\n"
          ]
        }
      ]
    },
    {
      "cell_type": "markdown",
      "source": [
        "#12. Write a code to access the second-to-last element of the tuple ('red', 'green', 'blue', 'yellow')."
      ],
      "metadata": {
        "id": "6rQ256u32Xhs"
      }
    },
    {
      "cell_type": "code",
      "source": [
        "my_tuple = ('red', 'green', 'blue', 'yellow')\n",
        "second_to_last_element = my_tuple[-2]\n",
        "print(second_to_last_element)"
      ],
      "metadata": {
        "colab": {
          "base_uri": "https://localhost:8080/"
        },
        "id": "lg06SEbp2ds_",
        "outputId": "e6c6aa16-b130-4eb5-a132-39ab5e588125"
      },
      "execution_count": 33,
      "outputs": [
        {
          "output_type": "stream",
          "name": "stdout",
          "text": [
            "blue\n"
          ]
        }
      ]
    },
    {
      "cell_type": "markdown",
      "source": [
        "#13. Write a code to find the minimum number in the tuple (10, 20, 5, 15).\n",
        "\n"
      ],
      "metadata": {
        "id": "3eFCswve2pWc"
      }
    },
    {
      "cell_type": "code",
      "source": [
        "my_tuple = (10, 20, 5, 15)\n",
        "minimum_number = min(my_tuple)\n",
        "print(minimum_number)"
      ],
      "metadata": {
        "colab": {
          "base_uri": "https://localhost:8080/"
        },
        "id": "vBoWhFfl2uYS",
        "outputId": "795d42c4-3e9d-40a3-edb9-aac6902670d2"
      },
      "execution_count": 34,
      "outputs": [
        {
          "output_type": "stream",
          "name": "stdout",
          "text": [
            "5\n"
          ]
        }
      ]
    },
    {
      "cell_type": "markdown",
      "source": [
        "#14. Write a code to find the index of the element \"cat\" in the tuple ('dog', 'cat', 'rabbit')."
      ],
      "metadata": {
        "id": "kgXJ39h328ac"
      }
    },
    {
      "cell_type": "code",
      "source": [
        "my_tuple = ('dog', 'cat', 'rabbit')\n",
        "index = my_tuple.index(\"cat\")\n",
        "print(index)"
      ],
      "metadata": {
        "colab": {
          "base_uri": "https://localhost:8080/"
        },
        "id": "ldt2-6Ys3Cks",
        "outputId": "1663a2ce-9138-4ef5-c0c2-67fdc8378b53"
      },
      "execution_count": 35,
      "outputs": [
        {
          "output_type": "stream",
          "name": "stdout",
          "text": [
            "1\n"
          ]
        }
      ]
    },
    {
      "cell_type": "markdown",
      "source": [
        "#15. Write a code to create a tuple containing three different fruits and check if \"kiwi\" is in it"
      ],
      "metadata": {
        "id": "GVXvUDR93ICT"
      }
    },
    {
      "cell_type": "code",
      "source": [
        "fruits = (\"apple\", \"banana\", \"kiwi\")  # Create a tuple of fruits\n",
        "\n",
        "if \"kiwi\" in fruits:\n",
        "    print(\"Kiwi is in the tuple\")\n",
        "else:\n",
        "    print(\"Kiwi is not in the tuple\")"
      ],
      "metadata": {
        "colab": {
          "base_uri": "https://localhost:8080/"
        },
        "id": "u74chkTc3QHJ",
        "outputId": "9f2fc505-1391-4deb-ea4c-80463df17977"
      },
      "execution_count": 36,
      "outputs": [
        {
          "output_type": "stream",
          "name": "stdout",
          "text": [
            "Kiwi is in the tuple\n"
          ]
        }
      ]
    },
    {
      "cell_type": "markdown",
      "source": [
        "#16. Write a code to create a set with the elements 'a', 'b', 'c' and print it."
      ],
      "metadata": {
        "id": "q3W_hQg43kas"
      }
    },
    {
      "cell_type": "code",
      "source": [
        "my_set = {'a', 'b', 'c'}\n",
        "print(my_set)"
      ],
      "metadata": {
        "colab": {
          "base_uri": "https://localhost:8080/"
        },
        "id": "boYP15C43qyf",
        "outputId": "91696b5e-f218-4970-aeaf-e566714178ad"
      },
      "execution_count": 37,
      "outputs": [
        {
          "output_type": "stream",
          "name": "stdout",
          "text": [
            "{'a', 'c', 'b'}\n"
          ]
        }
      ]
    },
    {
      "cell_type": "markdown",
      "source": [
        "#17. Write a code to clear all elements from the set {1, 2, 3, 4, 5}."
      ],
      "metadata": {
        "id": "DiUaeJeT3wtW"
      }
    },
    {
      "cell_type": "code",
      "source": [
        "my_set = {1, 2, 3, 4, 5}\n",
        "my_set.clear()\n",
        "print(my_set)"
      ],
      "metadata": {
        "colab": {
          "base_uri": "https://localhost:8080/"
        },
        "id": "85Cqiptp36ym",
        "outputId": "88064ef9-f0ef-4754-d9b5-c1a2f4ccc815"
      },
      "execution_count": 38,
      "outputs": [
        {
          "output_type": "stream",
          "name": "stdout",
          "text": [
            "set()\n"
          ]
        }
      ]
    },
    {
      "cell_type": "markdown",
      "source": [
        "#18. Write a code to remove the element 4 from the set {1, 2, 3, 4}."
      ],
      "metadata": {
        "id": "E9s6dL5G4Cat"
      }
    },
    {
      "cell_type": "code",
      "source": [
        "my_set = {1, 2, 3, 4}\n",
        "my_set.remove(4)\n",
        "print(my_set)"
      ],
      "metadata": {
        "colab": {
          "base_uri": "https://localhost:8080/"
        },
        "id": "pvuZZ-ej4JpH",
        "outputId": "67a7148e-f284-490b-861f-40eb680c2eb7"
      },
      "execution_count": 39,
      "outputs": [
        {
          "output_type": "stream",
          "name": "stdout",
          "text": [
            "{1, 2, 3}\n"
          ]
        }
      ]
    },
    {
      "cell_type": "markdown",
      "source": [
        "#19. Write a code to find the union of two sets {1, 2, 3} and {3, 4, 5}."
      ],
      "metadata": {
        "id": "ysz2hOYk4V3c"
      }
    },
    {
      "cell_type": "code",
      "source": [
        "set1 = {1, 2, 3}\n",
        "set2 = {3, 4, 5}\n",
        "\n",
        "# Using the union() method\n",
        "union_set = set1.union(set2)\n",
        "\n",
        "# Alternatively, using the | operator\n",
        "# union_set = set1 | set2\n",
        "\n",
        "print(union_set)  # Output: {1, 2, 3, 4, 5}"
      ],
      "metadata": {
        "colab": {
          "base_uri": "https://localhost:8080/"
        },
        "id": "IBezFNPL4aju",
        "outputId": "9ea809dd-3066-429b-9173-e884d854aa52"
      },
      "execution_count": 40,
      "outputs": [
        {
          "output_type": "stream",
          "name": "stdout",
          "text": [
            "{1, 2, 3, 4, 5}\n"
          ]
        }
      ]
    },
    {
      "cell_type": "markdown",
      "source": [
        "#20. Write a code to find the intersection of two sets {1, 2, 3} and {2, 3, 4}."
      ],
      "metadata": {
        "id": "gRLrTeA54n47"
      }
    },
    {
      "cell_type": "code",
      "source": [
        "set1 = {1, 2, 3}\n",
        "set2 = {2, 3, 4}\n",
        "\n",
        "# Using the intersection() method\n",
        "intersection_set = set1.intersection(set2)\n",
        "\n",
        "# Alternatively, using the & operator\n",
        "# intersection_set = set1 & set2\n",
        "\n",
        "print(intersection_set)  # Output: {2, 3}"
      ],
      "metadata": {
        "colab": {
          "base_uri": "https://localhost:8080/"
        },
        "id": "Zke0DAuU5AM2",
        "outputId": "e5af7f5c-c50e-4e53-cf34-72b5d9ccafc2"
      },
      "execution_count": 44,
      "outputs": [
        {
          "output_type": "stream",
          "name": "stdout",
          "text": [
            "{2, 3}\n"
          ]
        }
      ]
    },
    {
      "cell_type": "markdown",
      "source": [
        "#21. Write a code to create a dictionary with the keys \"name\", \"age\", and \"city\", and print it"
      ],
      "metadata": {
        "id": "n7kFBr0D5CSr"
      }
    },
    {
      "cell_type": "code",
      "source": [
        "my_dict = {\n",
        "    \"name\": \"Raja Dass\",\n",
        "    \"age\": 29,\n",
        "    \"city\": \"Durg\"\n",
        "}\n",
        "\n",
        "print(my_dict)"
      ],
      "metadata": {
        "colab": {
          "base_uri": "https://localhost:8080/"
        },
        "id": "suxUI-sC5Iew",
        "outputId": "ea4fa995-d8fe-46e8-d413-99618c0e774c"
      },
      "execution_count": 47,
      "outputs": [
        {
          "output_type": "stream",
          "name": "stdout",
          "text": [
            "{'name': 'Raja Dass', 'age': 29, 'city': 'Durg'}\n"
          ]
        }
      ]
    },
    {
      "cell_type": "markdown",
      "source": [
        "#22. Write a code to add a new key-value pair \"country\": \"USA\" to the dictionary {'name': 'John', 'age': 25}"
      ],
      "metadata": {
        "id": "QJ_ZTiE-5Nig"
      }
    },
    {
      "cell_type": "code",
      "source": [
        "my_dict = {'name': 'John', 'age': 25}\n",
        "\n",
        "# Add the new key-value pair\n",
        "my_dict['country'] = \"USA\"\n",
        "\n",
        "print(my_dict)"
      ],
      "metadata": {
        "colab": {
          "base_uri": "https://localhost:8080/"
        },
        "id": "M-Xfn22g5nNl",
        "outputId": "ad080ec4-b37f-4a64-b981-b1e72a38ef5f"
      },
      "execution_count": 48,
      "outputs": [
        {
          "output_type": "stream",
          "name": "stdout",
          "text": [
            "{'name': 'John', 'age': 25, 'country': 'USA'}\n"
          ]
        }
      ]
    },
    {
      "cell_type": "markdown",
      "source": [
        "#23. Write a code to access the value associated with the key \"name\" in the dictionary {'name': 'Alice', 'age': 30}."
      ],
      "metadata": {
        "id": "5T3vhZdv5tGV"
      }
    },
    {
      "cell_type": "code",
      "source": [
        "my_dict = {'name': 'Alice', 'age': 30}\n",
        "name = my_dict[\"name\"]\n",
        "print(name)  # Output: Alice"
      ],
      "metadata": {
        "colab": {
          "base_uri": "https://localhost:8080/"
        },
        "id": "PVt9aOJs5ziJ",
        "outputId": "d6334e58-2eee-42e3-da6b-323582cf5edd"
      },
      "execution_count": 49,
      "outputs": [
        {
          "output_type": "stream",
          "name": "stdout",
          "text": [
            "Alice\n"
          ]
        }
      ]
    },
    {
      "cell_type": "markdown",
      "source": [
        "#24. Write a code to remove the key \"age\" from the dictionary {'name': 'Bob', 'age': 22, 'city': 'New York'}."
      ],
      "metadata": {
        "id": "eB8Z7Tst58UB"
      }
    },
    {
      "cell_type": "code",
      "source": [
        "my_dict = {'name': 'Bob', 'age': 22, 'city': 'New York'}\n",
        "\n",
        "del my_dict[\"age\"]\n",
        "\n",
        "print(my_dict)  # Output: {'name': 'Bob', 'city': 'New York'}"
      ],
      "metadata": {
        "colab": {
          "base_uri": "https://localhost:8080/"
        },
        "id": "ECC-OPri5_uf",
        "outputId": "23c1a084-905f-4c6e-9dbc-fc0ffc4352ab"
      },
      "execution_count": 50,
      "outputs": [
        {
          "output_type": "stream",
          "name": "stdout",
          "text": [
            "{'name': 'Bob', 'city': 'New York'}\n"
          ]
        }
      ]
    },
    {
      "cell_type": "markdown",
      "source": [
        "#25. Write a code to check if the key \"city\" exists in the dictionary {'name': 'Alice', 'city': 'Paris'}."
      ],
      "metadata": {
        "id": "aXAW71ZD6H1w"
      }
    },
    {
      "cell_type": "code",
      "source": [
        "my_dict = {'name': 'Alice', 'city': 'Paris'}\n",
        "\n",
        "if \"city\" in my_dict:\n",
        "    print(\"The key 'city' exists in the dictionary\")\n",
        "else:\n",
        "    print(\"The key 'city' does not exist in"
      ],
      "metadata": {
        "colab": {
          "base_uri": "https://localhost:8080/",
          "height": 106
        },
        "id": "Vdy63_SO6Op4",
        "outputId": "67840604-0c61-4ac0-8367-61358caeceeb"
      },
      "execution_count": 51,
      "outputs": [
        {
          "output_type": "error",
          "ename": "SyntaxError",
          "evalue": "unterminated string literal (detected at line 6) (<ipython-input-51-d33fa07b87cd>, line 6)",
          "traceback": [
            "\u001b[0;36m  File \u001b[0;32m\"<ipython-input-51-d33fa07b87cd>\"\u001b[0;36m, line \u001b[0;32m6\u001b[0m\n\u001b[0;31m    print(\"The key 'city' does not exist in\u001b[0m\n\u001b[0m          ^\u001b[0m\n\u001b[0;31mSyntaxError\u001b[0m\u001b[0;31m:\u001b[0m unterminated string literal (detected at line 6)\n"
          ]
        }
      ]
    },
    {
      "cell_type": "markdown",
      "source": [
        "#26. Write a code to create a list, a tuple, and a dictionary, and print them all"
      ],
      "metadata": {
        "id": "3rixO1d86kT5"
      }
    },
    {
      "cell_type": "code",
      "source": [
        "# Create a list\n",
        "my_list = [1, 2, 3, \"apple\", \"banana\"]\n",
        "\n",
        "# Create a tuple\n",
        "my_tuple = (10, 20, 30, \"orange\", \"grape\")\n",
        "\n",
        "# Create a dictionary\n",
        "my_dict = {\"name\": \"Alice\", \"age\": 30, \"city\": \"New York\"}\n",
        "\n",
        "# Print the list, tuple, and dictionary\n",
        "print(\"List:\", my_list)\n",
        "print(\"Tuple:\", my_tuple)\n",
        "print(\"Dictionary:\", my_dict)"
      ],
      "metadata": {
        "colab": {
          "base_uri": "https://localhost:8080/"
        },
        "id": "v7lga-WP6x_B",
        "outputId": "c8733ec3-d5b8-429d-dc63-d85f17d683bf"
      },
      "execution_count": 53,
      "outputs": [
        {
          "output_type": "stream",
          "name": "stdout",
          "text": [
            "List: [1, 2, 3, 'apple', 'banana']\n",
            "Tuple: (10, 20, 30, 'orange', 'grape')\n",
            "Dictionary: {'name': 'Alice', 'age': 30, 'city': 'New York'}\n"
          ]
        }
      ]
    },
    {
      "cell_type": "markdown",
      "source": [
        "#27. Write a code to create a list of 5 random numbers between 1 and 100, sort it in ascending order, and print the result.(replaced)"
      ],
      "metadata": {
        "id": "oLToyLTl67gR"
      }
    },
    {
      "cell_type": "code",
      "source": [
        "import random\n",
        "\n",
        "# Generate 5 random numbers between 1 and 100\n",
        "random_numbers = random.sample(range(1, 101), 5)\n",
        "\n",
        "# Sort the list in ascending order\n",
        "random_numbers.sort()\n",
        "\n",
        "# Print the sorted list\n",
        "print(\"Sorted random numbers:\", random_numbers)"
      ],
      "metadata": {
        "colab": {
          "base_uri": "https://localhost:8080/"
        },
        "id": "36uThz_67LbR",
        "outputId": "8fdb6da2-5d7e-4f1d-85e2-4a089187a50d"
      },
      "execution_count": 54,
      "outputs": [
        {
          "output_type": "stream",
          "name": "stdout",
          "text": [
            "Sorted random numbers: [2, 10, 29, 72, 99]\n"
          ]
        }
      ]
    },
    {
      "cell_type": "markdown",
      "source": [
        "#28. Write a code to create a list with strings and print the element at the third index."
      ],
      "metadata": {
        "id": "g2Sclto67TgH"
      }
    },
    {
      "cell_type": "code",
      "source": [
        "my_list = [\"apple\", \"banana\", \"cherry\", \"date\", \"elderberry\"]\n",
        "print(my_list[2])  # Accessing the element at the third index (index 2)"
      ],
      "metadata": {
        "colab": {
          "base_uri": "https://localhost:8080/"
        },
        "id": "Ik2VIc-k7XXr",
        "outputId": "6ba19e4e-5d81-4555-831f-30f1f01b02c1"
      },
      "execution_count": 55,
      "outputs": [
        {
          "output_type": "stream",
          "name": "stdout",
          "text": [
            "cherry\n"
          ]
        }
      ]
    },
    {
      "cell_type": "markdown",
      "source": [
        "#29. Write a code to combine two dictionaries into one and print the result.\n",
        "\n"
      ],
      "metadata": {
        "id": "ajDVHy4O7gBa"
      }
    },
    {
      "cell_type": "code",
      "source": [
        "dict1 = {'a': 1, 'b': 2}\n",
        "dict2 = {'c': 3, 'd': 4}\n",
        "\n",
        "# Method 1: Using the update() method\n",
        "dict1.update(dict2)\n",
        "print(dict1)  # Output: {'a': 1, 'b': 2, 'c': 3, 'd': 4}\n",
        "\n",
        "# Method 2: Using the ** operator (Python 3.5+)\n",
        "combined_dict = {**dict1, **dict2}\n",
        "print(combined_dict)  # Output: {'a': 1, 'b': 2, 'c': 3, 'd': 4}"
      ],
      "metadata": {
        "colab": {
          "base_uri": "https://localhost:8080/"
        },
        "id": "7lfADEZB7maN",
        "outputId": "98f96b5f-9aed-47f5-ee94-78f63e2625d0"
      },
      "execution_count": 56,
      "outputs": [
        {
          "output_type": "stream",
          "name": "stdout",
          "text": [
            "{'a': 1, 'b': 2, 'c': 3, 'd': 4}\n",
            "{'a': 1, 'b': 2, 'c': 3, 'd': 4}\n"
          ]
        }
      ]
    },
    {
      "cell_type": "markdown",
      "source": [
        "#30. Write a code to convert a list of strings into a set."
      ],
      "metadata": {
        "id": "msdTFl427uNg"
      }
    },
    {
      "cell_type": "code",
      "source": [
        "my_list = [\"apple\", \"banana\", \"cherry\", \"apple\"]  # Example list with duplicates\n",
        "my_set = set(my_list)\n",
        "print(my_set)  # Output: {'banana', 'cherry', 'apple'}"
      ],
      "metadata": {
        "colab": {
          "base_uri": "https://localhost:8080/"
        },
        "id": "BJAY3KN77ye6",
        "outputId": "71486bbe-bb41-4a52-f549-2a9c4486dcd8"
      },
      "execution_count": 57,
      "outputs": [
        {
          "output_type": "stream",
          "name": "stdout",
          "text": [
            "{'banana', 'apple', 'cherry'}\n"
          ]
        }
      ]
    }
  ]
}